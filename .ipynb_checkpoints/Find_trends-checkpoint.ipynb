{
 "cells": [
  {
   "cell_type": "code",
   "execution_count": null,
   "id": "b85e09ef",
   "metadata": {},
   "outputs": [],
   "source": [
    "import numpy as np\n",
    "import pandas as pd\n",
    "from typing import List\n",
    "from detecta import detect_onset\n",
    "import statsmodels.api as sm\n",
    "import plotly.graph_objects as go\n",
    "from plotly.subplots import make_subplots"
   ]
  },
  {
   "cell_type": "markdown",
   "id": "35dc59f6",
   "metadata": {},
   "source": [
    "# Функции"
   ]
  },
  {
   "cell_type": "markdown",
   "id": "12e66ad4",
   "metadata": {},
   "source": [
    "## Сегментация сигнала"
   ]
  },
  {
   "cell_type": "code",
   "execution_count": null,
   "id": "3fa8edd2",
   "metadata": {},
   "outputs": [],
   "source": [
    "def segmentation_internal(dataframe: pd.DataFrame) -> List[pd.DataFrame]:\n",
    "    \"\"\"\n",
    "    Функция для внутренней сегментации в define_start_end_time().\n",
    "    \n",
    "    Функция сгементирует входной датафрейм с помощью detect_onset() по заданному порогу. \n",
    "    detect_onset() выдает индексы значений, больше заданного порога.\n",
    "    В list_with_segments добавляются рабочие сегменты (датафреймы с рабочими значениями параметра и первой нулевой точкой).\n",
    "    \n",
    "    :param dataframe: датафрейм телеметрии управляющего параметра\n",
    "    \n",
    "    :return: список с сегментами работы\n",
    "    \"\"\"\n",
    "    list_with_segments = [] # Список с рабочими сегментами работы скважины в режиме ПКВ\n",
    "    \n",
    "    list_with_indexes_of_segm = detect_onset(dataframe.val, 1)\n",
    "    \n",
    "    for segment in list_with_indexes_of_segm:\n",
    "        list_with_segments.append(dataframe.iloc[segment[0]-1:segment[1]+1])\n",
    "    \n",
    "    return list_with_segments"
   ]
  },
  {
   "cell_type": "code",
   "execution_count": null,
   "id": "71cb7fe8",
   "metadata": {},
   "outputs": [],
   "source": [
    "def define_start_end_time(df_one_well_freq: pd.DataFrame) -> List[List[pd.Timestamp]]:\n",
    "    \"\"\"\n",
    "    Функция для определения начала сегмента, начала и конца рабочего инетварала по управляющему параметру на сегменте.\n",
    "    \n",
    "    Функция сегментирует управляющий параметр на сегменты работы в segmentation_internal().\n",
    "    \n",
    "    По полученной разметке выбирается три времени:\n",
    "    1. Время начала сегмента (нулевая точка).\n",
    "    2. Время начала рабочего интервала в сегменте (начало ненулевой \"полки\" по упраляющему параметр)\n",
    "    3. Время конца рабочего интервала в сегменте (начало ненулевой \"полки\" по упраляющему параметр)\n",
    "    \n",
    "    :param df_one_well_freq: датафрейм с парметрами телеметрии частоты с одной скважины за заданный временной интервал\n",
    "    \n",
    "    :return: список с временной разметкой для каждого рабочего сегмента [start_time, start_work_time, end_work_time]     \n",
    "    \"\"\"\n",
    "    list_start_end_time = []\n",
    "    \n",
    "    list_with_segments_freq = segmentation_internal(df_one_well_freq)\n",
    "    \n",
    "    for segm_freq in list_with_segments_freq:\n",
    "        if len(segm_freq) != 0:\n",
    "            work_median = segm_freq['val'].median()\n",
    "            start_time = segm_freq.index[0]\n",
    "            start_work_time = segm_freq[segm_freq['val'] > work_median * 0.95].index[0]\n",
    "            end_work_time = segm_freq[segm_freq['val'] > work_median * 0.95].index[-1]\n",
    "            list_start_end_time.append([start_time, \n",
    "                                        start_work_time, \n",
    "                                        end_work_time])\n",
    "    \n",
    "    return list_start_end_time"
   ]
  },
  {
   "cell_type": "code",
   "execution_count": null,
   "id": "b3b72afd",
   "metadata": {},
   "outputs": [],
   "source": [
    "def segmentation_val(dataframe: pd.DataFrame, list_start_end_time: list) -> pd.DataFrame:\n",
    "    \"\"\"\n",
    "    Функция для сегемнтации анализируемого параметра телеметрии по разметке времени.\n",
    "    Функция позволяет отсегментировать любой параметр телеметрии скважины в режиме ПКВ на рабочие участки.\n",
    "    Далее каждый рабочий сегмент для трендирования заменяется на одну точку (медианное сегмента или максимальное сегмента).\n",
    "    \n",
    "    :param dataframe: датафрейм с данными телеметрии анализируемого параметра\n",
    "    :param list_start_end_time: список с временной разметкой для каждого рабочего сегмента [start_time, start_work_time, end_work_time]\n",
    "\n",
    "    :return: датафрейм с точками для трендиров\n",
    "    \"\"\"\n",
    "    df_result_val_for_trend = pd.DataFrame()\n",
    "    dataframe.set_index(\"dt\", inplace=True)\n",
    "    dataframe.index = pd.to_datetime(dataframe.index)\n",
    "    dataframe = dataframe.resample(\"1s\").mean().interpolate(method=\"linear\")\n",
    "    \n",
    "    for i, segment in enumerate(list_start_end_time):\n",
    "        if i in [0, len(list_start_end_time) - 1]:\n",
    "            continue\n",
    "        if segment[1] in dataframe.index and segment[2] in dataframe.index:\n",
    "            temp_df = dataframe.loc[segment[1]:segment[2]]\n",
    "            temp_df = temp_df[int(0.2 * len(temp_df)):] # Избавляемся от пускового эффекта\n",
    "            # Если одна точка в цикле или каждая следующая точка больше предыдущей, то берем максимальную точку\n",
    "            if all(temp_df.val.diff().dropna() >= 0):\n",
    "                result_point = temp_df.val.max()\n",
    "            # Если точек > 1 и следующая точка не факт, что больше предыдущей, то берем медианную точку\n",
    "            else:\n",
    "                result_point = temp_df.val.median()\n",
    "            if result_point == 0:\n",
    "                continue\n",
    "            temp_df = temp_df[:1]\n",
    "            temp_df.val = result_point\n",
    "            df_result_val_for_trend = pd.concat([df_result_val_for_trend,temp_df])\n",
    "    return df_result_val_for_trend"
   ]
  },
  {
   "cell_type": "markdown",
   "id": "3e444e9e",
   "metadata": {},
   "source": [
    "## Валидация данных"
   ]
  },
  {
   "cell_type": "code",
   "execution_count": null,
   "id": "397fb772",
   "metadata": {},
   "outputs": [],
   "source": [
    "def validate_values(data: pd.DataFrame, \n",
    "                    param_id: int, \n",
    "                    well_id: int, \n",
    "                    dt_from: str, \n",
    "                    dt_to: str, \n",
    "                    df_regime: pd.DataFrame, \n",
    "                    up_limit: int = 250, \n",
    "                    low_limit: int = 10\n",
    "                   ):\n",
    "    \"\"\"\n",
    "    Функция производит подготовку данных для алгоритма трендирования.\n",
    "    Если скважина работает в ПКВ, то производится сегментация рабочих участков.\n",
    "    Если скважина работает в ПДФ, то фильтруются нефизичные значения параметра.\n",
    "    \n",
    "    :param data: датафрейм с данными телеметрии\n",
    "    :param param_id: параметр телеметрии для анализа\n",
    "    :param well_id: номер скважины для анализа\n",
    "    :param dt_from: время начала анализа (включительно)\n",
    "    :param dt_to: время конца анализа (не включительно)\n",
    "    :param df_regime: датафрейм с данными о режиме работы скважины\n",
    "    :param up_limit: верхняя граница\n",
    "    :param low_limit: нижняя граница\n",
    "    \n",
    "    :return df_val, regime: отвалидированные данные, режим работы скважины\n",
    "    \"\"\"\n",
    "    \n",
    "    # Из всего датафрейма отбираем одну скважину и один параметр для анализа за указанный временной интервал\n",
    "    df = data.copy()\n",
    "    df = df[df.well_id == well_id]\n",
    "    df_from_to = df[(df.dt > dt_from) & (df.dt < dt_to)]\n",
    "    df_val = df_from_to.loc[(df_from_to[\"param_id\"] == param_id)].sort_values(\"dt\")\n",
    "    df_val = df_val.dropna(subset=[\"val\"])\n",
    "    \n",
    "    # Определение режима работы скважины (ПКВ, ПДФ и тд.)\n",
    "    if df_regime[(df_regime.well_id == well_id) & (df_regime.dt_from == dt_from)]['well_regime'].empty:\n",
    "        if df_regime[(df_regime.well_id == well_id)]['well_regime'].empty:\n",
    "            regime = 0\n",
    "        else:\n",
    "            regime = int(df_regime[(df_regime.well_id == well_id)]['well_regime'].median())\n",
    "    else:\n",
    "        regime = int(df_regime[(df_regime.well_id == well_id) & (df_regime.dt_from == dt_from)]['well_regime'].values)\n",
    "    regime = regime_dict[regime]\n",
    "    \n",
    "    # Валидация в зависимости от режима и параметра телеметрии\n",
    "    if regime in ['ПКВ'] and param_ids[param_id] in ['Загрузка', 'Частота']:\n",
    "        # Получение датафрейма по частоте\n",
    "        df_freq = df_from_to[df_from_to.param_id == 220]\n",
    "        df_freq = df_freq.dropna(subset=[\"val\"])\n",
    "        df_freq.set_index('dt',inplace=True)\n",
    "        df_freq = df_freq.sort_index()\n",
    "        list_start_end_time = define_start_end_time(df_freq) # Список работы\n",
    "        df_val = segmentation_val(df_val, list_start_end_time) # Сегментация анализируемого параметра\n",
    "    else:\n",
    "        df_val.set_index(\"dt\", inplace=True)\n",
    "        if param_ids[param_id] == 'Давление на приеме':\n",
    "            df_val['val'].where(~((df_val.val > up_limit) | (df_val.val < low_limit)), other=None, inplace=True)\n",
    "        if param_ids[param_id] == 'Температура двигателя ПЭД':\n",
    "             df_val['val'].where(~((df_val.val > up_limit) | (df_val.val < low_limit)), other=None, inplace=True)\n",
    "    return df_val, regime"
   ]
  },
  {
   "cell_type": "markdown",
   "id": "f1ee3c3a",
   "metadata": {},
   "source": [
    "## Нахождение значений тренда для анализируемого параметра"
   ]
  },
  {
   "cell_type": "code",
   "execution_count": null,
   "id": "a6116a93",
   "metadata": {},
   "outputs": [],
   "source": [
    "def preprocessing_trends(df: pd.DataFrame, \n",
    "                         window: int, \n",
    "                         regime: str, \n",
    "                         lambda_HP: int, \n",
    "                         param_id: int\n",
    "                        ):\n",
    "    \"\"\"\n",
    "    Функция находит значения тренда для анализируемого параметра телметрии.\n",
    "    В функции используется два метода:\n",
    "    1. Оконный медианный фильтр\n",
    "    2. Фильтр Ходрика-Прескотта\n",
    "    \n",
    "    :param df: датафрейм с отвалидироваными данными телеметрии (данные после validate_values())\n",
    "    :param window: скользящее окно для метода скользящего медианного\n",
    "    :param regime: режим работы скважины\n",
    "    :param lambda_HP: значение параметра для фильтра Ходрика-Прескотта (43200,129600)\n",
    "    :param param_id: параметр телеметрии для анализа\n",
    "    \n",
    "    :return df, x_trend: отвалидированные данные, данные тренда\n",
    "    \"\"\"\n",
    "    df['tm_value_median'] = df.val.rolling(window = window).median() # Rolling median\n",
    "\n",
    "    df = df.dropna() # Убираем None значения\n",
    "    \n",
    "    # Если рассматриваем скважины в режиме ПКВ (ПКВ с ЧЧ) и параметры загрузка, частота, то ресэмплим\n",
    "    if regime == 'ПКВ' and param_ids[param_id] in ['Загрузка', 'Частота']:\n",
    "        df = df.resample('10s').mean().interpolate(method='linear')\n",
    "    \n",
    "    cycle, target_med = sm.tsa.filters.hpfilter(df['tm_value_median'], lamb = lambda_HP) # Hodrick-Prescott filter\n",
    "    df.insert(4, 'HP_filter_med', target_med.values) \n",
    "    x_trend = df['HP_filter_med'] # Полученный тренд\n",
    "    return df, x_trend"
   ]
  },
  {
   "cell_type": "markdown",
   "id": "751fdc4a",
   "metadata": {},
   "source": [
    "## Кумулятивные суммы"
   ]
  },
  {
   "cell_type": "code",
   "execution_count": null,
   "id": "7364eb2f",
   "metadata": {},
   "outputs": [],
   "source": [
    "def detect_cusum(list_for_analize: list, threshold: float = 1, drift: float = 0, ending: bool = False):\n",
    "    \"\"\"\n",
    "    Метод для выявления резких изменений данных с использованием метода кумулятивных сумм.\n",
    "    \n",
    "    drift - величина позволяющая корректировать длину тренда (его начало временное начало и конец).\n",
    "    drift - может быть нулем или любым положительным числом.\n",
    "    По дефолту drift = 0,  с увеличением drift длина тренда уменьшается (так как кумулятивная сумма доходит до threshold медленнее)\n",
    "    \n",
    "\n",
    "    :param list_for_analize: данные для анализа\n",
    "    :param threshold: минимальный порог амплитуды изменения данных\n",
    "    :param drift: величина, предотвращающая попадание незначительных изменений в результат\n",
    "    :param ending: признак, отвечающий за выявление завершения изменений\n",
    "    \n",
    "    :return time_alarm_init_trend, time_alarm_start, time_alarm_final, amplitude: \n",
    "    список из индексов, c какого индекса задетектировался тренд,\n",
    "    список из индексов, соответствующих началу изменения,\n",
    "    список из индексов, соответствующих завершению изменения,\n",
    "    амплитуда изменений\n",
    "    \n",
    "    :Example\n",
    "    ---------------------------------------------------------------------------------------------------------------\n",
    "    time_alarm_init_trend, time_alarm_start, time_alarm_final, amplitude = \n",
    "    (\n",
    "    array([ 1,  2,  4, 10, 11, 13, 15]),\n",
    "    array([ 0,  1,  3,  4, 10, 11, 14]),\n",
    "    array([ 1,  3,  4, 10, 11, 14, 17]),\n",
    "    array([ -98.,  121., -116.,  305., -306.,  114., 9.])\n",
    "     )\n",
    "     \n",
    "     Например начало тренда (time_alarm_start) было на 1 индексе, а конец тренда (time_alarm_final) был на 3 индексе,\n",
    "     но первое детектирование тренда (time_alarm_init_trend) произошло на индексе 2. При этом изменение параметра считается,\n",
    "     как значение на time_alarm_final - значение на time_alarm_start (это изменение является амлитудой (amplitude) и равно 121)\n",
    "    \"\"\"\n",
    "    \n",
    "    # Числовой ряд для анализа\n",
    "    list_for_analize = np.array(list_for_analize)\n",
    "    list_for_analize = np.atleast_1d(list_for_analize).astype(\"float64\")\n",
    "    \n",
    "    # Инициализация масивов с позитивными и негативными изменениями (массивы с кумулятивными суммами)\n",
    "    positive_changes, negative_changes = np.zeros(list_for_analize.size), np.zeros(list_for_analize.size)\n",
    "    \n",
    "    # Инициализация массивов временами изменений\n",
    "    time_alarm_init_trend, time_alarm_start, time_alarm_final = np.array([[], [], []], dtype=int)\n",
    "    time_alarm_positive, time_alarm_negative = 0, 0\n",
    "    # Амплитуда изменения\n",
    "    amplitude = np.array([])\n",
    "    \n",
    "    # Цикл по индексам анализируемого числового ряда\n",
    "    for i in range(1, list_for_analize.size):\n",
    "        difference = list_for_analize[i] - list_for_analize[i - 1] # Находим разницу между двумя соседними точками\n",
    "        positive_changes[i] = positive_changes[i - 1] + difference - drift\n",
    "        negative_changes[i] = negative_changes[i - 1] - difference - drift\n",
    "        # Инициализация трендов\n",
    "        if positive_changes[i] < 0:\n",
    "            positive_changes[i], time_alarm_positive = 0, i\n",
    "        if negative_changes[i] < 0:\n",
    "            negative_changes[i], time_alarm_negative = 0, i\n",
    "        if positive_changes[i] > threshold or negative_changes[i] > threshold:\n",
    "            time_alarm_init_trend = np.append(time_alarm_init_trend, i)\n",
    "            time_alarm_start = np.append(time_alarm_start, time_alarm_positive if positive_changes[i] > threshold else time_alarm_negative)\n",
    "            \n",
    "            positive_changes[i], negative_changes[i] = 0, 0\n",
    "            \n",
    "    # Ищем время конца тренда и амплитуду\n",
    "    if time_alarm_start.size and ending:\n",
    "        _, time_alarm_start_2, _, _ = detect_cusum(list_for_analize[::-1], threshold, drift)\n",
    "        time_alarm_final = list_for_analize.size - time_alarm_start_2[::-1] - 1\n",
    "        time_alarm_start, ind = np.unique(time_alarm_start, return_index=True)\n",
    "        time_alarm_init_trend = time_alarm_init_trend[ind]\n",
    "        if time_alarm_start.size != time_alarm_final.size:\n",
    "            if time_alarm_start.size < time_alarm_final.size:\n",
    "                time_alarm_final = time_alarm_final[[np.argmax(time_alarm_final >= i) for i in time_alarm_init_trend]]\n",
    "            else:\n",
    "                ind = [np.argmax(i >= time_alarm_start[::-1]) - 1 for i in time_alarm_final]\n",
    "                time_alarm_init_trend = time_alarm_init_trend[ind]\n",
    "                time_alarm_start = time_alarm_start[ind]\n",
    "        ind = time_alarm_final[:-1] - time_alarm_start[1:] > 0\n",
    "        if ind.any():\n",
    "            time_alarm_init_trend = time_alarm_init_trend[~np.append(False, ind)]\n",
    "            time_alarm_start = time_alarm_start[~np.append(False, ind)]\n",
    "            time_alarm_final = time_alarm_final[~np.append(ind, False)]\n",
    "        amplitude = list_for_analize[time_alarm_final] - list_for_analize[time_alarm_start]\n",
    "        \n",
    "    return time_alarm_init_trend, time_alarm_start, time_alarm_final, amplitude"
   ]
  },
  {
   "cell_type": "code",
   "execution_count": null,
   "id": "41ffa7ad",
   "metadata": {},
   "outputs": [],
   "source": [
    "def use_cusum(df: pd.DataFrame,\n",
    "    well_id: int,\n",
    "    param_id: int,\n",
    "    dt_from: str,\n",
    "    dt_to: str,\n",
    "    regime: str,\n",
    "    drift: float,\n",
    "    threshold: int = 5,\n",
    "    range_med: int = 3,\n",
    "    median_window: int = 3,\n",
    "    lambda_HP: int = 43200,\n",
    "    ) -> list[dict] and pd.DataFrame:\n",
    "    \"\"\"\n",
    "    Основная функция по анализу тренда параметра на приеме с помощью Метода накопленных сумм CUSUM с\n",
    "    дополнительными обертками\n",
    "\n",
    "    Данная функция позволяет определять тренда для скважин, работающих в режиме ПКВ и ПДФ.\n",
    "    Можно находить тренды и направление трендов по следующим параметрыам:\n",
    "    1. Загрузка\n",
    "    2. Частота\n",
    "    3. Давление на приеме\n",
    "    4. Тепература двигателя ПЭД\n",
    "    5. Сопротивление изоляции\n",
    "    \n",
    "    :param input_dataframe: данные для анализа\n",
    "    :param well_id: номер скважины\n",
    "    :param param_id: номер параметра\n",
    "    :param threshold: порог изменения параметра\n",
    "    :param range_med: максимальная медианная дискретность данных по величине\n",
    "    :param median_window: величина медианного окна (5,7,9)\n",
    "    :param lambda_HP: значение параметра для фильтра Ходрика-Прескотта (43200,129600)\n",
    "\n",
    "    :return: список трендов\n",
    "    \"\"\"\n",
    "\n",
    "    # Проверка на количество None в данных и дискретность данных\n",
    "    if df.empty or int(df[['val']].isnull().sum()) == len(df[['val']]) or len(df['val']) < (median_window + 2):\n",
    "        return [], df\n",
    "\n",
    "    if regime in ['ПКВ'] and param_ids[param_id] in ['Частота', 'Загрузка']:\n",
    "        df, x = preprocessing_trends(df, 3, regime, 43200, param_id)\n",
    "    else:\n",
    "        df, x = preprocessing_trends(df, 5, regime, 43200, param_id)\n",
    "\n",
    "    ta, tai, taf, amp = detect_cusum(x, threshold, drift, True)\n",
    "    result_trend = np.zeros(shape=len(df['HP_filter_med']))\n",
    "\n",
    "    for left_border, right_border, cusum in zip(tai, taf, amp):\n",
    "        if cusum > 0:\n",
    "            trend_direction = 1\n",
    "        else:\n",
    "            trend_direction = -1\n",
    "        for i in range(left_border, right_border - 1):\n",
    "            result_trend[i] = trend_direction\n",
    "\n",
    "    trend_periods = np.stack([df['HP_filter_med'].index.values[tai],df['HP_filter_med'].index.values[taf]], axis=1)\n",
    "    positive_trend_periods = trend_periods[amp > 0]\n",
    "    negative_trend_periods = trend_periods[amp < 0]\n",
    "\n",
    "    result = [\n",
    "        {\n",
    "        \"well_id\": well_id,\n",
    "        \"param_id_well\": param_id,\n",
    "        \"param_id\": 'positive',\n",
    "        \"dt_from\": pd.Timestamp(i[0]).to_pydatetime(),\n",
    "        \"dt_to\": pd.Timestamp(i[1]).to_pydatetime(),\n",
    "        }\n",
    "    for i in positive_trend_periods\n",
    "    ]\n",
    "\n",
    "    result += [\n",
    "        {\n",
    "        \"well_id\": well_id,\n",
    "        \"param_id_well\": param_id,\n",
    "        \"param_id\": 'negative',\n",
    "        \"dt_from\": pd.Timestamp(i[0]).to_pydatetime(),\n",
    "        \"dt_to\": pd.Timestamp(i[1]).to_pydatetime(),\n",
    "        }\n",
    "    for i in negative_trend_periods\n",
    "    ]\n",
    "\n",
    "    return result, df"
   ]
  },
  {
   "cell_type": "markdown",
   "id": "62965aa6",
   "metadata": {},
   "source": [
    "# Основая функция трендирования"
   ]
  },
  {
   "cell_type": "code",
   "execution_count": null,
   "id": "12999cab",
   "metadata": {},
   "outputs": [],
   "source": [
    "def start_analysis(data: pd.DataFrame, \n",
    "                   param_id: int, \n",
    "                   well_id: int, \n",
    "                   dt_from: str, \n",
    "                   dt_to: str, \n",
    "                   df_regime: pd.DataFrame\n",
    "                  ) -> list and pd.DataFrame:\n",
    "    \"\"\"\n",
    "    Функция для определения трендов в данных параметров телеметрии скважин, работающих в режимах ПКВ и ПДФ.\n",
    "    \n",
    "    :param data: датафрейм с данными телеметрии\n",
    "    :param param_id: параметр телеметрии для анализа\n",
    "    :param well_id: номер скважины для анализа\n",
    "    :param dt_from: время начала анализа (включительно)\n",
    "    :param dt_to: время конца анализа (не включительно)\n",
    "    :param df_regime: датафрейм с данными о режиме работы скважины\n",
    "    \n",
    "    :return trends, df: список трендов, датафрейм с данными тренда\n",
    "    \"\"\"\n",
    "\n",
    "    data_for_trend, regime = validate_values(data, param_id, well_id, dt_from, dt_to, df_regime) # Валидация данных\n",
    "\n",
    "    threshold = settings_threshold[param_id][regime] # Установка гиперпараметра для use_cusum()\n",
    "\n",
    "    drift = drifts[param_id] # Установка гиперпараметра для use_cusum()\n",
    "    \n",
    "    trends, df = use_cusum(data_for_trend, well_id, param_id, dt_from, dt_to, regime, drift=drift, threshold=threshold)\n",
    "    \n",
    "    # Вывод информации для себя (потом удалить)\n",
    "    print(f\"\"\"Скважина: {well_id}\\nВремя анализа: {dt_from} - {dt_to}\n",
    "Режим работы: {regime}\\nПараметр: {param_ids[param_id]} ({param_id})\n",
    "Threshold: {threshold}\\nDrift: {drift}\"\"\")\n",
    "    \n",
    "    return trends, df"
   ]
  },
  {
   "cell_type": "markdown",
   "id": "544c4082",
   "metadata": {},
   "source": [
    "# Анализ трендов"
   ]
  },
  {
   "cell_type": "code",
   "execution_count": null,
   "id": "703d2c8b",
   "metadata": {},
   "outputs": [],
   "source": [
    "def analize_trend(trends: list, \n",
    "                  trends_freq: list\n",
    "                 ) -> list[dict]:\n",
    "    \"\"\"\n",
    "    Функция анализирует полученные тренды с помощью сравненения с трендом по управляющему параметру.\n",
    "    \n",
    "    :param trends: тренд по анализируемому параметру\n",
    "    :param trends_freq: тренд по управляющему параметру\n",
    "    \n",
    "    :return trends, df: список трендов, датафрейм с данными тренда\n",
    "    \"\"\"\n",
    "    all_times = []\n",
    "    \n",
    "    final_trends = []\n",
    "    final_trends_freq = []\n",
    "    \n",
    "    for trend in trends:\n",
    "        trend_copy = trend.copy()\n",
    "        final_trends.append(trend_copy)\n",
    "    \n",
    "    for trend in trends_freq:\n",
    "        trend_copy = trend.copy()\n",
    "        final_trends_freq.append(trend_copy)\n",
    "        \n",
    "    if not final_trends:\n",
    "        return final_trends\n",
    "        \n",
    "    # Добавляем для каждого тренда список со всем временем в интервале тренда в формате timestamp\n",
    "    for trend in final_trends:\n",
    "        trend['time_interval'] = [x for x in range(int(trend['dt_from'].timestamp()), (int(trend['dt_to'].timestamp()) +1))]\n",
    "    for trend_freq in final_trends_freq:\n",
    "        trend_freq['time_interval'] = [x for x in range(int(trend_freq['dt_from'].timestamp()), (int(trend_freq['dt_to'].timestamp()) +1))]\n",
    "    \n",
    "    # Все время анализа трендов по управляющему параметру\n",
    "    for time in final_trends_freq:\n",
    "        all_times += time['time_interval']    \n",
    "        \n",
    "    if final_trends[0]['param_id_well'] == 200:\n",
    "    \n",
    "        for trend in final_trends:\n",
    "\n",
    "            analize_one_trend = []\n",
    "            start_time = int(trend['dt_from'].timestamp()) # Время начала тренда\n",
    "            stop_time = int(trend['dt_to'].timestamp()) # Время конца тренда\n",
    "            direction = trend['param_id'] # Направление тренда\n",
    "\n",
    "            # Если тренд по анализируемому параметру нигде не пересекается с любым трендом по управляющему\n",
    "            # Или трендов по управдляющему параметру нет\n",
    "            if start_time not in all_times and stop_time not in all_times:\n",
    "                trend['real_trend'] = 'yes'\n",
    "                continue\n",
    "\n",
    "            for trend_freq in final_trends_freq:\n",
    "\n",
    "                time_interval = trend_freq['time_interval'] # Временной интервал тренда по управляющему параметру\n",
    "\n",
    "                # Если время начала тренда и конца не лежат в этом тренде, то пропускаем\n",
    "                if (set(trend['time_interval']) & set(time_interval)) == set():    \n",
    "                    continue\n",
    "\n",
    "                # Если время начала и время конца лежат в одном тренде по управляющему параметру\n",
    "                elif (set(trend['time_interval']) & set(time_interval)) != set():\n",
    "                    analize_one_trend.append(trend_freq)\n",
    "\n",
    "            # Если в списке только один тренд (то есть только какая-то часть тренда анализируемого параметра пересекается с трендом по управ. параметру)\n",
    "            if len(analize_one_trend) == 1:\n",
    "                if direction == analize_one_trend[0]['param_id']:\n",
    "                    trend['real_trend'] = 'no'\n",
    "                elif direction != analize_one_trend[0]['param_id']:\n",
    "                    trend['real_trend'] = 'yes'\n",
    "            # Если в списке больше одного тренда\n",
    "            elif len(analize_one_trend) > 1:\n",
    "\n",
    "                list_final = []\n",
    "\n",
    "                for trend_freq in analize_one_trend:\n",
    "                    dict_final = {}\n",
    "                    intersection = set(trend['time_interval']) & set(trend_freq['time_interval'])\n",
    "                    dict_final['dt_from'] = trend_freq['dt_from']\n",
    "                    dict_final['dt_to'] = trend_freq['dt_to']\n",
    "                    dict_final['param_id'] = trend_freq['param_id']\n",
    "                    dict_final['intersection'] = max(intersection)- min(intersection)\n",
    "                    list_final.append(dict_final)\n",
    "\n",
    "                sum_positive = []\n",
    "                sum_negative = []\n",
    "\n",
    "                for insert in list_final:\n",
    "                    if insert['param_id'] == 'positive':\n",
    "                        sum_positive.append(insert['intersection'])\n",
    "                    if insert['param_id'] == 'negative':\n",
    "                        sum_negative.append(insert['intersection'])\n",
    "                if  sum(sum_positive) > sum(sum_negative):\n",
    "                    final_direction = 'positive'\n",
    "                elif  sum(sum_negative) > sum(sum_positive):\n",
    "                    final_direction = 'negative'\n",
    "                if direction == final_direction:\n",
    "                    trend['real_trend'] = 'no'\n",
    "                elif direction != final_direction:\n",
    "                    trend['real_trend'] = 'yes'\n",
    "        for trend in final_trends:\n",
    "            trend.pop('time_interval')\n",
    "    \n",
    "    elif final_trends[0]['param_id_well'] == 188:\n",
    "        \n",
    "        for trend in final_trends:\n",
    "\n",
    "            analize_one_trend = []\n",
    "            start_time = int(trend['dt_from'].timestamp()) # Время начала тренда\n",
    "            stop_time = int(trend['dt_to'].timestamp()) # Время конца тренда\n",
    "            direction = trend['param_id'] # Направление тренда\n",
    "\n",
    "            # Если тренд по анализируемому параметру нигде не пересекается с любым трендом по управляющему\n",
    "            # Или трендов по управдляющему параметру нет\n",
    "            if start_time not in all_times and stop_time not in all_times:\n",
    "                if trend['param_id'] == 'positive':\n",
    "                    trend['real_trend'] = 'yes'\n",
    "                elif trend['param_id'] == 'negative':\n",
    "                    trend['real_trend'] = 'no'    \n",
    "                continue\n",
    "\n",
    "            for trend_freq in final_trends_freq:\n",
    "\n",
    "                time_interval = trend_freq['time_interval'] # Временной интервал тренда по управляющему параметру\n",
    "\n",
    "                # Если время начала тренда и конца не лежат в этом тренде, то пропускаем\n",
    "                if (set(trend['time_interval']) & set(time_interval)) == set():    \n",
    "                    continue\n",
    "\n",
    "                # Если время начала и время конца лежат в одном тренде по управляющему параметру\n",
    "                elif (set(trend['time_interval']) & set(time_interval)) != set():\n",
    "                    analize_one_trend.append(trend_freq)\n",
    "\n",
    "            # Если в списке только один тренд (то есть только какая-то часть тренда анализируемого параметра пересекается с трендом по управ. параметру)\n",
    "            if len(analize_one_trend) == 1:\n",
    "                if direction != analize_one_trend[0]['param_id']:\n",
    "                    trend['real_trend'] = 'no'\n",
    "                elif direction == analize_one_trend[0]['param_id']:\n",
    "                    trend['real_trend'] = 'yes'\n",
    "            # Если в списке больше одного тренда\n",
    "            elif len(analize_one_trend) > 1:\n",
    "\n",
    "                list_final = []\n",
    "\n",
    "                for trend_freq in analize_one_trend:\n",
    "                    dict_final = {}\n",
    "                    intersection = set(trend['time_interval']) & set(trend_freq['time_interval'])\n",
    "                    dict_final['dt_from'] = trend_freq['dt_from']\n",
    "                    dict_final['dt_to'] = trend_freq['dt_to']\n",
    "                    dict_final['param_id'] = trend_freq['param_id']\n",
    "                    dict_final['intersection'] = max(intersection)- min(intersection)\n",
    "                    list_final.append(dict_final)\n",
    "\n",
    "                sum_positive = []\n",
    "                sum_negative = []\n",
    "\n",
    "                for insert in list_final:\n",
    "                    if insert['param_id'] == 'positive':\n",
    "                        sum_positive.append(insert['intersection'])\n",
    "                    if insert['param_id'] == 'negative':\n",
    "                        sum_negative.append(insert['intersection'])\n",
    "                if  sum(sum_positive) > sum(sum_negative):\n",
    "                    final_direction = 'positive'\n",
    "                elif  sum(sum_negative) > sum(sum_positive):\n",
    "                    final_direction = 'negative'\n",
    "                if direction != final_direction:\n",
    "                    trend['real_trend'] = 'no'\n",
    "                elif direction == final_direction:\n",
    "                    trend['real_trend'] = 'yes'\n",
    "        for trend in final_trends:\n",
    "            trend.pop('time_interval')\n",
    "    else:\n",
    "        for trend in final_trends:\n",
    "            trend['real_trend'] = 'yes'\n",
    "    return final_trends"
   ]
  },
  {
   "cell_type": "markdown",
   "id": "7a5512c2",
   "metadata": {},
   "source": [
    "# Загрузка данных для примера работы алгоритма трендирования"
   ]
  },
  {
   "attachments": {
    "image.png": {
     "image/png": "[encoded data removed]"
    }
   },
   "cell_type": "markdown",
   "id": "1dae1887",
   "metadata": {},
   "source": [
    "Пример данных телеметрии со скважины:\n",
    "\n",
    "![image.png](attachment:image.png)"
   ]
  },
  {
   "attachments": {
    "image.png": {
     "image/png": "[encoded data removed]"
    }
   },
   "cell_type": "markdown",
   "id": "ea873a40",
   "metadata": {},
   "source": [
    "Пример данных по режиму работы скважины:\n",
    "\n",
    "![image.png](attachment:image.png)"
   ]
  },
  {
   "cell_type": "code",
   "execution_count": null,
   "id": "ca7caf3a",
   "metadata": {},
   "outputs": [],
   "source": [
    "# Данные телеметрии скважин\n",
    "df = pd.read_csv('data_tm.csv')\n",
    "df = df.rename(columns={\"tm_time\": \"dt\", \"tm_value\": \"val\"})"
   ]
  },
  {
   "cell_type": "code",
   "execution_count": null,
   "id": "a65b901f",
   "metadata": {},
   "outputs": [],
   "source": [
    "# Данные по режимам работы скважин\n",
    "df_regime = pd.read_csv('data_regime.csv')\n",
    "df_regime[['dt_from', 'dt_to']] = df_regime[['dt_from', 'dt_to']].apply(pd.to_datetime)"
   ]
  },
  {
   "cell_type": "code",
   "execution_count": null,
   "id": "176aaff8",
   "metadata": {},
   "outputs": [],
   "source": [
    "# Вид исходного датафрейма с данными по телеметрии по разным параметрам\n",
    "df.head()"
   ]
  },
  {
   "cell_type": "code",
   "execution_count": null,
   "id": "3c027a99",
   "metadata": {},
   "outputs": [],
   "source": [
    "# Вид исходного датафрейма с режимами работы скважин\n",
    "df_regime.head()"
   ]
  },
  {
   "cell_type": "markdown",
   "id": "6f6ca953",
   "metadata": {},
   "source": [
    "# Словари с параметрами и гиперпараметрами"
   ]
  },
  {
   "cell_type": "code",
   "execution_count": null,
   "id": "01f94a1c",
   "metadata": {},
   "outputs": [],
   "source": [
    "# Режимы работы скважин\n",
    "regime_dict = {0 : 'ПДФ',\n",
    "               1 : 'АПВ',\n",
    "               2 : 'ПКВ',\n",
    "               3 : 'ЧЧ',\n",
    "               4 : 'ПДД'}"
   ]
  },
  {
   "cell_type": "code",
   "execution_count": null,
   "id": "a7c2cbf2",
   "metadata": {},
   "outputs": [],
   "source": [
    "# Параметры телеметрии\n",
    "param_ids = {200: 'Загрузка',\n",
    "             220: 'Частота',\n",
    "             188: 'Давление на приеме',\n",
    "             187: 'Температура двигателя ПЭД',\n",
    "             219: 'Сопротивление изоляции'\n",
    "            }"
   ]
  },
  {
   "cell_type": "code",
   "execution_count": null,
   "id": "cea0591e",
   "metadata": {},
   "outputs": [],
   "source": [
    "# Гиперпараметр кумулятивной суммы - параметр отвечает за размах (длину) тренда (чем выше параметр, тем меньше рахмах)\n",
    "drifts = {\n",
    "    187: 0,\n",
    "    188: 0,\n",
    "    200: 0.01,\n",
    "    220: 0,\n",
    "    219: 0\n",
    "}"
   ]
  },
  {
   "cell_type": "code",
   "execution_count": null,
   "id": "5bb9d717",
   "metadata": {},
   "outputs": [],
   "source": [
    "# Гиперпараметр кумулятивной суммы - порог изменения параметра телеметрии, при котором детектируется тренд\n",
    "settings_threshold = {\n",
    "        200: {'ПКВ': 20, 'ПДФ': 10},\n",
    "        187: {'ПКВ': 5, 'ПДФ': 5},\n",
    "        188: {'ПКВ': 10, 'ПДФ': 5},\n",
    "        219: {'ПКВ': 100, 'ПДФ': 100},\n",
    "        220: {'ПКВ': 5, 'ПДФ': 5}\n",
    "    }"
   ]
  },
  {
   "cell_type": "markdown",
   "id": "4b7deb5d",
   "metadata": {},
   "source": [
    "# Пример работы алгоритма"
   ]
  },
  {
   "cell_type": "markdown",
   "id": "034519e4",
   "metadata": {},
   "source": [
    "## Входные данные"
   ]
  },
  {
   "cell_type": "code",
   "execution_count": null,
   "id": "e7aeb2d4",
   "metadata": {
    "scrolled": true
   },
   "outputs": [],
   "source": [
    "# Скважины для анализа\n",
    "df.well_id.unique()"
   ]
  },
  {
   "cell_type": "code",
   "execution_count": null,
   "id": "9991bcbf",
   "metadata": {},
   "outputs": [],
   "source": [
    "print(f'Возможный временной интервал для анализа: {df.dt.min()} - {df.dt.max()}')"
   ]
  },
  {
   "cell_type": "code",
   "execution_count": null,
   "id": "90f238b1",
   "metadata": {},
   "outputs": [],
   "source": [
    "print(f'Количество скважин: {len(df.well_id.unique())}')"
   ]
  },
  {
   "cell_type": "markdown",
   "id": "26d337ee",
   "metadata": {},
   "source": [
    "## Ввод данных"
   ]
  },
  {
   "cell_type": "code",
   "execution_count": null,
   "id": "2189933c",
   "metadata": {},
   "outputs": [],
   "source": [
    "well_id = 110001500\n",
    "param_id = 219\n",
    "dt_from = '2022-05-02'\n",
    "dt_to = '2022-05-03'"
   ]
  },
  {
   "cell_type": "markdown",
   "id": "b29964c9",
   "metadata": {},
   "source": [
    "## Поиск трендов"
   ]
  },
  {
   "cell_type": "code",
   "execution_count": null,
   "id": "e95f891a",
   "metadata": {},
   "outputs": [],
   "source": [
    "trends, df_for_trend = start_analysis(df, param_id, well_id, dt_from, dt_to, df_regime)"
   ]
  },
  {
   "cell_type": "code",
   "execution_count": null,
   "id": "bdafa1f4",
   "metadata": {},
   "outputs": [],
   "source": [
    "# Нахождегте трендов по управляюшему параметру (частота)\n",
    "param_id_freq = 220\n",
    "trends_freq, df_for_trend_freq = start_analysis(df, param_id_freq, well_id, dt_from, dt_to, df_regime)"
   ]
  },
  {
   "cell_type": "code",
   "execution_count": null,
   "id": "a3e79d7c",
   "metadata": {},
   "outputs": [],
   "source": [
    "# Датафрейм на выходе алгоритма по анализу трендов\n",
    "df_for_trend"
   ]
  },
  {
   "cell_type": "code",
   "execution_count": null,
   "id": "79bc065e",
   "metadata": {},
   "outputs": [],
   "source": [
    "# Вывод трендов анализируемого параметра\n",
    "# Если трендов нет, то выводится пустой список\n",
    "trends"
   ]
  },
  {
   "cell_type": "markdown",
   "id": "e471ffa2",
   "metadata": {},
   "source": [
    "## Подготовка данных для визуализации"
   ]
  },
  {
   "cell_type": "markdown",
   "id": "ffb4e813",
   "metadata": {},
   "source": [
    "### Исходные данные анализируемого параметра телеметрии"
   ]
  },
  {
   "cell_type": "code",
   "execution_count": null,
   "id": "43fc825e",
   "metadata": {},
   "outputs": [],
   "source": [
    "df_init = df.copy()\n",
    "df_init = df_init[df_init.well_id == well_id]\n",
    "df_init = df_init[(df_init.dt > dt_from) & (df_init.dt < dt_to)]\n",
    "df_init = df_init.loc[(df_init[\"param_id\"] == param_id)].sort_values(\"dt\")\n",
    "df_init = df_init.dropna(subset=[\"val\"])"
   ]
  },
  {
   "cell_type": "code",
   "execution_count": null,
   "id": "83f0d964",
   "metadata": {},
   "outputs": [],
   "source": [
    "df_init"
   ]
  },
  {
   "cell_type": "markdown",
   "id": "92693d9b",
   "metadata": {},
   "source": [
    "### Исходные данные управляющего параметра (частоты)"
   ]
  },
  {
   "cell_type": "code",
   "execution_count": null,
   "id": "8231f8c7",
   "metadata": {},
   "outputs": [],
   "source": [
    "df_init_freq = df.copy()\n",
    "df_init_freq = df_init_freq[df_init_freq.well_id == well_id]\n",
    "df_init_freq = df_init_freq[(df_init_freq.dt > dt_from) & (df_init_freq.dt < dt_to)]\n",
    "df_init_freq = df_init_freq.loc[(df_init_freq[\"param_id\"] == 220)].sort_values(\"dt\")\n",
    "df_init_freq = df_init_freq.dropna(subset=[\"val\"])"
   ]
  },
  {
   "cell_type": "markdown",
   "id": "6511e572",
   "metadata": {},
   "source": [
    "# Визуализация"
   ]
  },
  {
   "cell_type": "markdown",
   "id": "213dfaa8",
   "metadata": {},
   "source": [
    "## Визуализация анализируемого параметра"
   ]
  },
  {
   "cell_type": "code",
   "execution_count": null,
   "id": "28759d48",
   "metadata": {},
   "outputs": [],
   "source": [
    "if df_regime[(df_regime.well_id == well_id) & (df_regime.dt_from == dt_from)]['well_regime'].empty:\n",
    "    if df_regime[(df_regime.well_id == well_id)]['well_regime'].empty:\n",
    "        regime = 0\n",
    "    else:\n",
    "        if len(df_regime[(df_regime.well_id == well_id)]['well_regime'].values) == 1:\n",
    "            regime = int(df_regime[(df_regime.well_id == well_id)]['well_regime'].values)\n",
    "        else:\n",
    "            regime = int(df_regime[(df_regime.well_id == well_id)]['well_regime'].median())\n",
    "else:\n",
    "    regime = int(df_regime[(df_regime.well_id == well_id) & (df_regime.dt_from == dt_from)]['well_regime'].values)\n",
    "regime = regime_dict[regime]"
   ]
  },
  {
   "cell_type": "code",
   "execution_count": null,
   "id": "9da38782",
   "metadata": {
    "scrolled": false
   },
   "outputs": [],
   "source": [
    "fig = go.Figure(layout_title_text=f\"ID скважины: {int(df_init.well_id.unique())}\"\\\n",
    "                f\" Дата: {df_init.dt.min()} - {df_init.dt.max()}\"\\\n",
    "               f\" {param_ids[int(df_init.param_id.unique())]}: {int(df_init.param_id.unique())}\"\\\n",
    "                f\" Режим: {regime}\"\\\n",
    "               f\" Threshold: {settings_threshold[int(df_init.param_id.unique())][regime]}\")\n",
    "fig.update_layout(title_font_size=10)\n",
    "fig.add_trace(go.Scatter(x=df_init.dt, y=df_init.val, mode='lines+markers', name = 'Исходные данные'))\n",
    "if 'HP_filter_med' in df_for_trend.columns:\n",
    "    fig.add_trace(go.Scatter(x=df_for_trend.index, y=df_for_trend.HP_filter_med, mode='lines+markers', name = 'Тренд'))\n",
    "for trend in trends:\n",
    "    if trend['param_id'] == 'positive':\n",
    "        fig.add_trace(go.Scatter(x=[trend['dt_from'], trend['dt_to']], y=[int(df_init.param_id.unique())]*2, \n",
    "                                 line_color=\"green\",\n",
    "                                 name = 'Тренд вверх'))\n",
    "    if trend['param_id'] == 'negative':\n",
    "        fig.add_trace(go.Scatter(x=[trend['dt_from'], trend['dt_to']], y=[int(df_init.param_id.unique())]*2,\n",
    "                                 line_color=\"red\",\n",
    "                                 name = 'Тренд вниз'))       \n",
    "fig.show()"
   ]
  },
  {
   "cell_type": "markdown",
   "id": "1724f9bc",
   "metadata": {},
   "source": [
    "## Визуализация анализируемого параметра с частотой"
   ]
  },
  {
   "cell_type": "code",
   "execution_count": null,
   "id": "0c3e10c7",
   "metadata": {
    "scrolled": false
   },
   "outputs": [],
   "source": [
    "fig = make_subplots(rows=3, cols=1)\n",
    "\n",
    "fig.update_layout(title_text=f\"ID скважины: {int(df_init.well_id.unique())}\"\\\n",
    "                f\" Дата: {df_init.dt.min()} - {df_init.dt.max()}\"\\\n",
    "               f\" {param_ids[int(df_init.param_id.unique())]}: {int(df_init.param_id.unique())}\"\\\n",
    "                f\" Режим: {regime}\"\\\n",
    "               f\" Threshold: {settings_threshold[int(df_init.param_id.unique())][regime]}\")\n",
    "                        \n",
    "fig.update_layout(height=900, title_font_size=10)\n",
    "\n",
    "fig.add_trace(go.Scatter(x=df_init.dt, y=df_init.val, mode='lines+markers', name = f'{param_ids[int(df_init.param_id.unique())]}'), row=2, col=1)\n",
    "fig.add_trace(go.Scatter(x=df_init_freq.dt, y=df_init_freq.val, mode='lines+markers', name = 'Частота'), row=3, col=1)\n",
    "if 'HP_filter_med' in df_for_trend.columns:\n",
    "    fig.add_trace(go.Scatter(x=df_for_trend.index, y=df_for_trend.HP_filter_med, mode='lines+markers', name = 'Тренд анализируемый'), row=2, col=1)\n",
    "\n",
    "fig.add_trace(go.Scatter(x=[list(df_for_trend.index)[0], list(df_for_trend.index)[-1]], y=[int(df_init.param_id.unique())]*2, mode='markers'), row=1, col=1)\n",
    "for trend in trends:\n",
    "    if trend['param_id'] == 'positive':\n",
    "        fig.add_trace(go.Scatter(x=[trend['dt_from'], trend['dt_to']], y=[int(df_init.param_id.unique())]*2, \n",
    "                                 line_color=\"green\",\n",
    "                                 name = 'Тренд вверх'), row=1, col=1)\n",
    "    if trend['param_id'] == 'negative':\n",
    "        fig.add_trace(go.Scatter(x=[trend['dt_from'], trend['dt_to']], y=[int(df_init.param_id.unique())]*2,\n",
    "                                 line_color=\"red\",\n",
    "                                 name = 'Тренд вниз'), row=1, col=1)\n",
    "if 'HP_filter_med' in df_for_trend_freq.columns:\n",
    "    fig.add_trace(go.Scatter(x=df_for_trend_freq.index, y=df_for_trend_freq.HP_filter_med, mode='lines+markers', name = 'Тренд по частоте'), row=3, col=1)\n",
    "\n",
    "fig.add_trace(go.Scatter(x=[list(df_for_trend_freq.index)[0], list(df_for_trend_freq.index)[-1]], y=[int(df_init.param_id.unique())]*2, mode='markers'), row=1, col=1)\n",
    "for trend in trends_freq:\n",
    "    if trend['param_id'] == 'positive':\n",
    "        fig.add_trace(go.Scatter(x=[trend['dt_from'], trend['dt_to']], y=[int(df_init_freq.param_id.unique())]*2, \n",
    "                                 line_color=\"green\",\n",
    "                                 name = 'Тренд вверх'), row=1, col=1)\n",
    "    if trend['param_id'] == 'negative':\n",
    "        fig.add_trace(go.Scatter(x=[trend['dt_from'], trend['dt_to']], y=[int(df_init_freq.param_id.unique())]*2,\n",
    "                                 line_color=\"red\",\n",
    "                                 name = 'Тренд вниз'), row=1, col=1) \n",
    "fig.show()"
   ]
  },
  {
   "cell_type": "markdown",
   "id": "fcc50beb",
   "metadata": {},
   "source": [
    "## Анализ трендов (сравнение с трендов управляющего параметра)"
   ]
  },
  {
   "cell_type": "code",
   "execution_count": null,
   "id": "8c569e47",
   "metadata": {},
   "outputs": [],
   "source": [
    "# Анализ тренда\n",
    "trends_after_analize = analize_trend(trends, trends_freq)"
   ]
  },
  {
   "cell_type": "code",
   "execution_count": null,
   "id": "e15355b5",
   "metadata": {},
   "outputs": [],
   "source": [
    "trends_after_analize"
   ]
  },
  {
   "cell_type": "markdown",
   "id": "43425ab7",
   "metadata": {},
   "source": [
    "## Визуализация анализируемого параметра с частотой (подсветка аномальных трендов)"
   ]
  },
  {
   "cell_type": "code",
   "execution_count": null,
   "id": "b7ff5699",
   "metadata": {},
   "outputs": [],
   "source": [
    "fig = make_subplots(rows=3, cols=1)\n",
    "\n",
    "fig.update_layout(title_text=f\"ID скважины: {int(df_init.well_id.unique())}\"\\\n",
    "                f\" Дата: {df_init.dt.min()} - {df_init.dt.max()}\"\\\n",
    "               f\" {param_ids[int(df_init.param_id.unique())]}: {int(df_init.param_id.unique())}\"\\\n",
    "                f\" Режим: {regime}\"\\\n",
    "               f\" Threshold: {settings_threshold[int(df_init.param_id.unique())][regime]}\")\n",
    "                        \n",
    "fig.update_layout(height=900, title_font_size=10)\n",
    "# fig.update_layout(xaxis_range=[list(df_init_freq.dt)[0], list(df_init_freq.dt)[-1]])\n",
    "\n",
    "fig.add_trace(go.Scatter(x=df_init.dt, y=df_init.val, mode='lines+markers', name = f'{param_ids[int(df_init.param_id.unique())]}'), row=2, col=1)\n",
    "fig.add_trace(go.Scatter(x=df_init_freq.dt, y=df_init_freq.val, mode='lines+markers', name = 'Частота'), row=3, col=1)\n",
    "if 'HP_filter_med' in df_for_trend.columns:\n",
    "    fig.add_trace(go.Scatter(x=df_for_trend.index, y=df_for_trend.HP_filter_med, mode='lines+markers', name = 'Тренд анализируемый'), row=2, col=1)\n",
    "\n",
    "fig.add_trace(go.Scatter(x=[list(df_for_trend.index)[0], list(df_for_trend.index)[-1]], y=[int(df_init.param_id.unique())]*2, mode='markers'), row=1, col=1)\n",
    "for trend in trends_after_analize:\n",
    "    if trend['param_id'] == 'positive':\n",
    "        fig.add_trace(go.Scatter(x=[trend['dt_from'], trend['dt_to']], y=[int(df_init.param_id.unique())]*2, \n",
    "                                 line_color=\"green\",\n",
    "                                 name = 'Тренд вверх'))\n",
    "    if trend['param_id'] == 'negative':\n",
    "        fig.add_trace(go.Scatter(x=[trend['dt_from'], trend['dt_to']], y=[int(df_init.param_id.unique())]*2,\n",
    "                                 line_color=\"red\",\n",
    "                                 name = 'Тренд вниз'))\n",
    "    if trend['real_trend'] == 'yes':\n",
    "        fig.add_vrect(x0=trend['dt_from'], x1=trend['dt_to'], fillcolor=\"red\", opacity=0.15, line_width=0)\n",
    "if 'HP_filter_med' in df_for_trend_freq.columns:\n",
    "    fig.add_trace(go.Scatter(x=df_for_trend_freq.index, y=df_for_trend_freq.HP_filter_med, mode='lines+markers', name = 'Тренд по частоте'), row=3, col=1)\n",
    "\n",
    "fig.add_trace(go.Scatter(x=[list(df_for_trend_freq.index)[0], list(df_for_trend_freq.index)[-1]], y=[int(df_init.param_id.unique())]*2, mode='markers'), row=1, col=1)\n",
    "for trend in trends_freq:\n",
    "    if trend['param_id'] == 'positive':\n",
    "        fig.add_trace(go.Scatter(x=[trend['dt_from'], trend['dt_to']], y=[int(df_init_freq.param_id.unique())]*2, \n",
    "                                 line_color=\"green\",\n",
    "                                 name = 'Тренд вверх'))\n",
    "    if trend['param_id'] == 'negative':\n",
    "        fig.add_trace(go.Scatter(x=[trend['dt_from'], trend['dt_to']], y=[int(df_init_freq.param_id.unique())]*2,\n",
    "                                 line_color=\"red\",\n",
    "                                 name = 'Тренд вниз')) \n",
    "fig.show()"
   ]
  },
  {
   "cell_type": "code",
   "execution_count": null,
   "id": "21253eba",
   "metadata": {},
   "outputs": [],
   "source": [
    "list(df_init_freq.dt)[0]"
   ]
  },
  {
   "cell_type": "code",
   "execution_count": null,
   "id": "ce85530b",
   "metadata": {},
   "outputs": [],
   "source": [
    "df_for_trend"
   ]
  },
  {
   "cell_type": "code",
   "execution_count": null,
   "id": "737ee666",
   "metadata": {},
   "outputs": [],
   "source": [
    "print(f'Возможный временной интервал для анализа: {df.dt.min()} - {df.dt.max()}')"
   ]
  },
  {
   "cell_type": "markdown",
   "id": "0e022403",
   "metadata": {},
   "source": [
    "# Цикл по всем скважинам"
   ]
  },
  {
   "cell_type": "code",
   "execution_count": null,
   "id": "1ddb14ff",
   "metadata": {
    "scrolled": true
   },
   "outputs": [],
   "source": [
    "%%time\n",
    "final_list = []\n",
    "len_list = []\n",
    "for well_id in list(df.well_id.unique()):\n",
    "    len_list.append(well_id)\n",
    "    print(len(len_list))\n",
    "    final_list_one_well = []\n",
    "    param_id = 219\n",
    "    param_id_freq = 220\n",
    "    dt_from = '2022-05-05'\n",
    "    dt_to = '2022-05-06'\n",
    "    try:\n",
    "        trends, df_for_trend = start_analysis(df, param_id, well_id, dt_from, dt_to, df_regime)    \n",
    "        trends_freq, df_for_trend_freq = start_analysis(df, param_id_freq, well_id, dt_from, dt_to, df_regime)\n",
    "        trends_after_analize = analize_trend(trends, trends_freq)\n",
    "    except:\n",
    "        print('---------------Ошибка---------------')\n",
    "        print(f'Скважина: {well_id}')\n",
    "        print('------------------------------------')\n",
    "        continue\n",
    "    for trend in trends_after_analize:\n",
    "        if trend['real_trend'] == 'yes':\n",
    "            final_list_one_well.append(trend)\n",
    "    if final_list_one_well:\n",
    "        final_list.append(final_list_one_well)"
   ]
  },
  {
   "cell_type": "code",
   "execution_count": null,
   "id": "75e47d09",
   "metadata": {
    "scrolled": true
   },
   "outputs": [],
   "source": [
    "# Число скважин с аномальными трендами\n",
    "len(final_list)"
   ]
  },
  {
   "cell_type": "code",
   "execution_count": null,
   "id": "d1058247",
   "metadata": {},
   "outputs": [],
   "source": [
    "# Номера скважин с аномальными трендами\n",
    "for well in final_list:\n",
    "    print(well[0]['well_id'])"
   ]
  },
  {
   "cell_type": "code",
   "execution_count": null,
   "id": "7d7780d8",
   "metadata": {},
   "outputs": [],
   "source": []
  },
  {
   "cell_type": "code",
   "execution_count": null,
   "id": "b53fa3c2",
   "metadata": {},
   "outputs": [],
   "source": []
  },
  {
   "cell_type": "code",
   "execution_count": null,
   "id": "2b33bb61",
   "metadata": {},
   "outputs": [],
   "source": []
  },
  {
   "cell_type": "code",
   "execution_count": null,
   "id": "c0578204",
   "metadata": {},
   "outputs": [],
   "source": []
  },
  {
   "cell_type": "code",
   "execution_count": null,
   "id": "a4c51884",
   "metadata": {},
   "outputs": [],
   "source": []
  },
  {
   "cell_type": "code",
   "execution_count": null,
   "id": "94db1779",
   "metadata": {},
   "outputs": [],
   "source": []
  },
  {
   "cell_type": "code",
   "execution_count": null,
   "id": "8c7e85ae",
   "metadata": {},
   "outputs": [],
   "source": []
  },
  {
   "cell_type": "code",
   "execution_count": null,
   "id": "b48c5401",
   "metadata": {},
   "outputs": [],
   "source": []
  },
  {
   "cell_type": "code",
   "execution_count": null,
   "id": "3adf2e8e",
   "metadata": {},
   "outputs": [],
   "source": []
  },
  {
   "cell_type": "code",
   "execution_count": null,
   "id": "b4099a79",
   "metadata": {},
   "outputs": [],
   "source": []
  },
  {
   "cell_type": "code",
   "execution_count": null,
   "id": "5bc30ea2",
   "metadata": {},
   "outputs": [],
   "source": []
  },
  {
   "cell_type": "code",
   "execution_count": null,
   "id": "02691a3e",
   "metadata": {},
   "outputs": [],
   "source": []
  },
  {
   "cell_type": "code",
   "execution_count": null,
   "id": "b1deff0b",
   "metadata": {},
   "outputs": [],
   "source": []
  },
  {
   "cell_type": "code",
   "execution_count": null,
   "id": "418224dc",
   "metadata": {},
   "outputs": [],
   "source": []
  },
  {
   "cell_type": "code",
   "execution_count": null,
   "id": "b2336577",
   "metadata": {},
   "outputs": [],
   "source": []
  },
  {
   "cell_type": "code",
   "execution_count": null,
   "id": "06d468e8",
   "metadata": {},
   "outputs": [],
   "source": []
  },
  {
   "cell_type": "code",
   "execution_count": null,
   "id": "069ae2a5",
   "metadata": {},
   "outputs": [],
   "source": []
  },
  {
   "cell_type": "code",
   "execution_count": null,
   "id": "402c8440",
   "metadata": {},
   "outputs": [],
   "source": []
  },
  {
   "cell_type": "code",
   "execution_count": null,
   "id": "2a4dbdd8",
   "metadata": {},
   "outputs": [],
   "source": []
  },
  {
   "cell_type": "code",
   "execution_count": null,
   "id": "92628365",
   "metadata": {},
   "outputs": [],
   "source": []
  },
  {
   "cell_type": "code",
   "execution_count": null,
   "id": "df907a0b",
   "metadata": {},
   "outputs": [],
   "source": []
  },
  {
   "cell_type": "code",
   "execution_count": null,
   "id": "53af31c5",
   "metadata": {},
   "outputs": [],
   "source": []
  },
  {
   "cell_type": "code",
   "execution_count": null,
   "id": "bf9b8269",
   "metadata": {},
   "outputs": [],
   "source": []
  },
  {
   "cell_type": "code",
   "execution_count": null,
   "id": "21d213a5",
   "metadata": {},
   "outputs": [],
   "source": []
  },
  {
   "cell_type": "code",
   "execution_count": null,
   "id": "bf13049e",
   "metadata": {},
   "outputs": [],
   "source": []
  },
  {
   "cell_type": "code",
   "execution_count": null,
   "id": "0197f1b3",
   "metadata": {},
   "outputs": [],
   "source": []
  }
 ],
 "metadata": {
  "kernelspec": {
   "display_name": "PyCharm (project)",
   "language": "python",
   "name": "pycharm-932890a7"
  },
  "language_info": {
   "codemirror_mode": {
    "name": "ipython",
    "version": 3
   },
   "file_extension": ".py",
   "mimetype": "text/x-python",
   "name": "python",
   "nbconvert_exporter": "python",
   "pygments_lexer": "ipython3",
   "version": "3.9.7"
  }
 },
 "nbformat": 4,
 "nbformat_minor": 5
}
